{
  "nbformat": 4,
  "nbformat_minor": 0,
  "metadata": {
    "colab": {
      "provenance": []
    },
    "kernelspec": {
      "name": "python3",
      "display_name": "Python 3"
    },
    "language_info": {
      "name": "python"
    }
  },
  "cells": [
    {
      "cell_type": "code",
      "source": [
        "import csv\n",
        "import numpy as np\n",
        "import math"
      ],
      "metadata": {
        "id": "NdUzyUnoEANp"
      },
      "execution_count": 1,
      "outputs": []
    },
    {
      "cell_type": "code",
      "source": [
        "# Đọc dữ liệu\n",
        "# Một số thao tác tiền xử lí gồm: Xóa đi hàng đầu tiên chứa tiêu đề, xóa đi cột đầu tiên (thứ tự), sau đó chúng ta sẽ sử dụng phương thức shuffle của\n",
        "# numpy.random để trộn dữ liệu. Lí do là để sau khi trộn chúng ta sẽ lấy 50 hàng cuối để làm dữ liệu test.\n",
        "def loadData(path):\n",
        "    f = open(path, \"r\")\n",
        "    data = csv.reader(f) #csv format\n",
        "    data = np.array(list(data))# covert to matrix\n",
        "    data = np.delete(data, 0, 0)# delete header\n",
        "    data = np.delete(data, 0, 1) # delete index\n",
        "    np.random.shuffle(data) # shuffle data\n",
        "    f.close()\n",
        "    trainSet = data[:100] #training data from 1->100\n",
        "    testSet = data[100:]# the others is testing data\n",
        "    return trainSet, testSet"
      ],
      "metadata": {
        "id": "g1jw43e4ELuA"
      },
      "execution_count": 2,
      "outputs": []
    },
    {
      "cell_type": "code",
      "source": [
        "# Xây dựng hàm tính khoảng cách Euclidean\n",
        "def calcDistancs(pointA, pointB, numOfFeature=4):\n",
        "    tmp = 0\n",
        "    for i in range(numOfFeature):\n",
        "        tmp += (float(pointA[i]) - float(pointB[i])) ** 2\n",
        "    return math.sqrt(tmp)"
      ],
      "metadata": {
        "id": "_mOQ_E8xEPo1"
      },
      "execution_count": 4,
      "outputs": []
    },
    {
      "cell_type": "code",
      "source": [
        "# Xây dụng hàm tìm k điểm dữ liệu gần nhất\n",
        "def kNearestNeighbor(trainSet, point, k):\n",
        "    distances = []\n",
        "    for item in trainSet:\n",
        "        distances.append({\n",
        "            \"label\": item[-1],\n",
        "            \"value\": calcDistancs(item, point)\n",
        "        })\n",
        "    distances.sort(key=lambda x: x[\"value\"])\n",
        "    labels = [item[\"label\"] for item in distances]\n",
        "    return labels[:k]"
      ],
      "metadata": {
        "id": "gctU7md8EwlK"
      },
      "execution_count": 6,
      "outputs": []
    },
    {
      "cell_type": "code",
      "source": [
        "# Xây dựng hàm tìm loài hoa xuất hiện nhiều nhất trong k loài tìm được\n",
        "def findMostOccur(arr):\n",
        "    labels = set(arr) # set label\n",
        "    ans = \"\"\n",
        "    maxOccur = 0\n",
        "    for label in labels:\n",
        "        num = arr.count(label)\n",
        "        if num > maxOccur:\n",
        "            maxOccur = num\n",
        "            ans = label\n",
        "    return ans"
      ],
      "metadata": {
        "id": "LQleOZd3FGZt"
      },
      "execution_count": 8,
      "outputs": []
    },
    {
      "cell_type": "code",
      "source": [
        "if __name__ == \"__main__\":\n",
        "    trainSet, testSet = loadData(\"./Iris.csv\")\n",
        "    numOfRightAnwser = 0\n",
        "    for item in testSet:\n",
        "        knn = kNearestNeighbor(trainSet, item, 5)\n",
        "        answer = findMostOccur(knn)\n",
        "        numOfRightAnwser += item[-1] == answer\n",
        "        print(\"label: {} -> predicted: {}\".format(item[-1], answer))\n",
        "    print(\"Accuracy\", numOfRightAnwser/len(testSet))"
      ],
      "metadata": {
        "colab": {
          "base_uri": "https://localhost:8080/"
        },
        "id": "p1yku2IrGhzL",
        "outputId": "5e559fd0-1da0-4203-f471-a3730a7e59d7"
      },
      "execution_count": 12,
      "outputs": [
        {
          "output_type": "stream",
          "name": "stdout",
          "text": [
            "label: Iris-setosa -> predicted: Iris-setosa\n",
            "label: Iris-versicolor -> predicted: Iris-virginica\n",
            "label: Iris-virginica -> predicted: Iris-virginica\n",
            "label: Iris-virginica -> predicted: Iris-virginica\n",
            "label: Iris-versicolor -> predicted: Iris-virginica\n",
            "label: Iris-setosa -> predicted: Iris-setosa\n",
            "label: Iris-versicolor -> predicted: Iris-versicolor\n",
            "label: Iris-setosa -> predicted: Iris-setosa\n",
            "label: Iris-setosa -> predicted: Iris-setosa\n",
            "label: Iris-versicolor -> predicted: Iris-versicolor\n",
            "label: Iris-versicolor -> predicted: Iris-versicolor\n",
            "label: Iris-virginica -> predicted: Iris-virginica\n",
            "label: Iris-setosa -> predicted: Iris-setosa\n",
            "label: Iris-setosa -> predicted: Iris-setosa\n",
            "label: Iris-versicolor -> predicted: Iris-versicolor\n",
            "label: Iris-virginica -> predicted: Iris-virginica\n",
            "label: Iris-virginica -> predicted: Iris-virginica\n",
            "label: Iris-setosa -> predicted: Iris-setosa\n",
            "label: Iris-virginica -> predicted: Iris-virginica\n",
            "label: Iris-virginica -> predicted: Iris-virginica\n",
            "label: Iris-setosa -> predicted: Iris-setosa\n",
            "label: Iris-versicolor -> predicted: Iris-versicolor\n",
            "label: Iris-versicolor -> predicted: Iris-versicolor\n",
            "label: Iris-virginica -> predicted: Iris-virginica\n",
            "label: Iris-setosa -> predicted: Iris-setosa\n",
            "label: Iris-versicolor -> predicted: Iris-versicolor\n",
            "label: Iris-virginica -> predicted: Iris-virginica\n",
            "label: Iris-versicolor -> predicted: Iris-versicolor\n",
            "label: Iris-setosa -> predicted: Iris-setosa\n",
            "label: Iris-versicolor -> predicted: Iris-versicolor\n",
            "label: Iris-virginica -> predicted: Iris-virginica\n",
            "label: Iris-virginica -> predicted: Iris-virginica\n",
            "label: Iris-versicolor -> predicted: Iris-versicolor\n",
            "label: Iris-setosa -> predicted: Iris-setosa\n",
            "label: Iris-setosa -> predicted: Iris-setosa\n",
            "label: Iris-versicolor -> predicted: Iris-versicolor\n",
            "label: Iris-versicolor -> predicted: Iris-versicolor\n",
            "label: Iris-virginica -> predicted: Iris-virginica\n",
            "label: Iris-virginica -> predicted: Iris-virginica\n",
            "label: Iris-virginica -> predicted: Iris-virginica\n",
            "label: Iris-versicolor -> predicted: Iris-versicolor\n",
            "label: Iris-virginica -> predicted: Iris-virginica\n",
            "label: Iris-virginica -> predicted: Iris-virginica\n",
            "label: Iris-setosa -> predicted: Iris-setosa\n",
            "label: Iris-versicolor -> predicted: Iris-versicolor\n",
            "label: Iris-setosa -> predicted: Iris-setosa\n",
            "label: Iris-versicolor -> predicted: Iris-versicolor\n",
            "label: Iris-setosa -> predicted: Iris-setosa\n",
            "label: Iris-versicolor -> predicted: Iris-versicolor\n",
            "label: Iris-setosa -> predicted: Iris-setosa\n",
            "Accuracy 0.96\n"
          ]
        }
      ]
    },
    {
      "cell_type": "code",
      "source": [
        "#"
      ],
      "metadata": {
        "id": "J0e6Qoy3HBk-"
      },
      "execution_count": null,
      "outputs": []
    }
  ]
}